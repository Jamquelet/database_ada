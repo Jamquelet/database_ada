{
 "cells": [
  {
   "cell_type": "code",
   "execution_count": 3,
   "metadata": {},
   "outputs": [],
   "source": [
    "#Codigo de conexion \n",
    "from sqlalchemy import create_engine\n",
    "from sqlalchemy.orm import sessionmaker, declarative_base\n",
    "from sqlalchemy import Column, Integer, String\n",
    "\n",
    "# Configurar la conexión a la base de datos\n",
    "engine = create_engine('sqlite:///usuarios.sqlite', echo=True) \n",
    "Session = sessionmaker(bind=engine)\n",
    "session = Session()\n"
   ]
  },
  {
   "cell_type": "code",
   "execution_count": 15,
   "metadata": {},
   "outputs": [],
   "source": [
    "# Definir la clase Usuario\n",
    "#crear una tabla en la base de datos\n",
    "\n",
    "Base = declarative_base() #Clase base que da sqlalchemy, logica \n",
    "\n",
    "class Usuario(Base): #hereda de Base\n",
    "    __tablename__ = 'usuarios'\n",
    "    id = Column(Integer, primary_key=True)\n",
    "    nombre = Column(String)\n",
    "    email = Column(String)\n",
    "\n",
    "    def __repr__(self) -> str:\n",
    "        return f\"Usuario(id={self.id}, nombre={self.nombre}, email={self.email})\""
   ]
  },
  {
   "cell_type": "code",
   "execution_count": 4,
   "metadata": {},
   "outputs": [
    {
     "name": "stdout",
     "output_type": "stream",
     "text": [
      "2023-09-19 15:46:00,274 INFO sqlalchemy.engine.Engine BEGIN (implicit)\n",
      "2023-09-19 15:46:00,277 INFO sqlalchemy.engine.Engine PRAGMA main.table_info(\"usuarios\")\n",
      "2023-09-19 15:46:00,280 INFO sqlalchemy.engine.Engine [raw sql] ()\n",
      "2023-09-19 15:46:00,284 INFO sqlalchemy.engine.Engine PRAGMA temp.table_info(\"usuarios\")\n",
      "2023-09-19 15:46:00,287 INFO sqlalchemy.engine.Engine [raw sql] ()\n",
      "2023-09-19 15:46:00,291 INFO sqlalchemy.engine.Engine \n",
      "CREATE TABLE usuarios (\n",
      "\tid INTEGER NOT NULL, \n",
      "\tnombre VARCHAR, \n",
      "\temail VARCHAR, \n",
      "\tPRIMARY KEY (id)\n",
      ")\n",
      "\n",
      "\n",
      "2023-09-19 15:46:00,296 INFO sqlalchemy.engine.Engine [no key 0.00529s] ()\n",
      "2023-09-19 15:46:00,309 INFO sqlalchemy.engine.Engine COMMIT\n"
     ]
    }
   ],
   "source": [
    "Base.metadata.create_all(engine)"
   ]
  },
  {
   "cell_type": "code",
   "execution_count": 13,
   "metadata": {},
   "outputs": [
    {
     "name": "stdout",
     "output_type": "stream",
     "text": [
      "self.nombre='Dad Lovelace', self.email='dadlovelace@gmail.com'\n",
      "2023-09-19 16:14:06,120 INFO sqlalchemy.engine.Engine BEGIN (implicit)\n",
      "2023-09-19 16:14:06,125 INFO sqlalchemy.engine.Engine INSERT INTO usuarios (nombre, email) VALUES (?, ?)\n",
      "2023-09-19 16:14:06,126 INFO sqlalchemy.engine.Engine [cached since 31.38s ago] ('Dad Lovelace', 'dadlovelace@gmail.com')\n",
      "2023-09-19 16:14:06,131 INFO sqlalchemy.engine.Engine COMMIT\n"
     ]
    }
   ],
   "source": [
    "#como creo una instancia de la tabla usuarios- cada instancia del objeto es una fila de la tabla\n",
    "u1 = Usuario(nombre='Dad Lovelace', email='dadlovelace@gmail.com',)\n",
    "print(u1)\n",
    "session.add(u1) #interactuar con la db, agregar esa fila  y la mandamos a la base de datos\n",
    "session.commit()\n",
    "\n",
    "u2 = Usuario(nombre='Julio', email='jjuuull@gmail.com',)\n",
    "print(u2)\n",
    "session.add(u2) #interactuar con la db, agregar esa fila  y la mandamos a la base de datos\n",
    "session.commit()"
   ]
  },
  {
   "cell_type": "code",
   "execution_count": 18,
   "metadata": {},
   "outputs": [
    {
     "name": "stdout",
     "output_type": "stream",
     "text": [
      "2023-09-19 16:22:03,743 INFO sqlalchemy.engine.Engine SELECT usuarios.id AS usuarios_id, usuarios.nombre AS usuarios_nombre, usuarios.email AS usuarios_email \n",
      "FROM usuarios\n",
      "2023-09-19 16:22:03,747 INFO sqlalchemy.engine.Engine [cached since 241.6s ago] ()\n",
      "\n",
      "Usuario(id=1, nombre=Dad Lovelace, email=dadlovelace@gmail.com)\n",
      "Usuario(id=2, nombre=Dad Lovelace, email=dadlovelace@gmail.com)\n",
      "Usuario(id=3, nombre=Dad Lovelace, email=dadlovelace@gmail.com)\n"
     ]
    }
   ],
   "source": [
    "# Consulta utilizando SQLAlchemy. Sacar los datos\n",
    "usuarios = session.query(Usuario).all()\n",
    "#print(usuarios)\n",
    "print()\n",
    "for usuario in usuarios:\n",
    "    #print(usuario.nombre, usuario.email)\n",
    "    print(usuario)"
   ]
  },
  {
   "cell_type": "code",
   "execution_count": null,
   "metadata": {},
   "outputs": [],
   "source": [
    "#queremos 10 usuarios, se insertan todos\n",
    "for i in range(10):\n",
    "    session.add(Usuario(...))\n",
    "session.commit()"
   ]
  }
 ],
 "metadata": {
  "kernelspec": {
   "display_name": "python_ada",
   "language": "python",
   "name": "python3"
  },
  "language_info": {
   "codemirror_mode": {
    "name": "ipython",
    "version": 3
   },
   "file_extension": ".py",
   "mimetype": "text/x-python",
   "name": "python",
   "nbconvert_exporter": "python",
   "pygments_lexer": "ipython3",
   "version": "3.11.4"
  },
  "orig_nbformat": 4
 },
 "nbformat": 4,
 "nbformat_minor": 2
}
