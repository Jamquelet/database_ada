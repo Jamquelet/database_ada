{
 "cells": [
  {
   "cell_type": "markdown",
   "metadata": {},
   "source": [
    "**Bases de datos relacionales**\n",
    "\n",
    "En una base de datos relacional, los datos se almacenan en múltiples tablas que están relacionadas entre sí mediante claves primarias y claves externas o claves/llaves foráneas.\n",
    "\n",
    "Estas tablas se diseñan de acuerdo a un esquema previamente definido, especificando los nombres de las tablas, los atributos y los tipos de datos que cada columna puede contener.\n",
    "\n",
    "Las tablas en una base de datos relacional están interconectadas mediante claves primarias y claves externas, lo que permite establecer relaciones entre ellas. Una clave primaria es un atributo único que identifica de manera exclusiva cada registro en una tabla. Por otro lado, una clave externa se utiliza para establecer una relación entre dos tablas, enlazando la clave primaria de una tabla con la clave externa de otra tabla.\n",
    "\n",
    "Por ejemplo, supongamos que estás diseñando una base de datos para una empresa de ventas en línea. Tienes dos entidades principales: Clientes y Pedidos. Cada cliente puede realizar múltiples pedidos, y cada pedido está asociado a un cliente específico.\n",
    "\n",
    "1. Tabla \"Clientes\":\n",
    "ID\tNombre\tDirección\n",
    "1\tJuan\tCalle Principal 123\n",
    "2\tMaría\tAvenida Central 456\n",
    "3\tPedro\tCalle Secundaria 789\n",
    "\n",
    "En esta tabla, el campo ID se establece como la clave primaria. Cada cliente tiene un identificador único que lo distingue de otros clientes. La clave primaria garantiza que no haya duplicados y proporciona un identificador único para cada registro de cliente.\n",
    "\n",
    "2. Tabla \"Pedidos\":\n",
    "ID\tCliente_ID\tFecha\t    Total\n",
    "1\t2\t        2023-05-01\t$50\n",
    "2\t3\t        2023-05-02\t$75\n",
    "3\t1\t        2023-05-03\t$100\n",
    "\n",
    "En esta tabla, el campo ID se establece como la clave primaria, al igual que en la tabla Clientes. El campo Cliente_ID se establece como una clave externa o foránea que establece una relación entre las tablas Pedidos y Clientes. El valor de Cliente_ID en cada fila corresponde al ID del cliente al que pertenece el pedido.\n",
    "\n",
    "Esta relación entre las tablas \"Clientes\" y \"Pedidos\" se logra mediante las claves primarias y foráneas. Al utilizar una clave foránea, es posible establecer una relación entre una tabla y otra, lo que permite acceder y consultar los datos de manera conjunta.\n",
    "\n",
    "Por ejemplo, si deseas obtener todos los pedidos realizados por un cliente en particular, puedes usar la clave foránea Cliente_ID en la tabla Pedidos para realizar una consulta que coincida con el ID del cliente en la tabla Clientes. Esto te permitirá recuperar todos los pedidos asociados a ese cliente.\n",
    "\n",
    "    En resumen, el uso de claves primarias y foráneas en una base de datos relacional permite establecer relaciones entre tablas y garantizar la integridad referencial de los datos. Las claves primarias actúan como identificadores únicos, mientras que las claves foráneas facilitan la conexión y consulta de datos relacionados entre distintas tablas.\n",
    "\n",
    "La estructura de tablas y las relaciones entre ellas en una base de datos relacional proporcionan varias ventajas:\n",
    "\n",
    "Organización estructurada: Las tablas permiten organizar los datos en forma de filas y columnas, lo que facilita la visualización y comprensión de la estructura de los datos.\n",
    "\n",
    "Eliminación de redundancias: Al dividir la información en diferentes tablas y establecer relaciones, se evita la repetición innecesaria de datos, lo que ayuda a reducir el tamaño de las tablas y mejora la eficiencia en el almacenamiento.\n",
    "\n",
    "Integridad de los datos: Las claves primarias y externas aseguran la integridad referencial de los datos, lo que significa que no puede haber relaciones inconsistentes o datos huérfanos en la base de datos.\n",
    "\n",
    "Consultas y manipulación eficientes: La estructura tabular permite realizar consultas complejas, combinando datos de diferentes tablas a través de operaciones de unión, proyección y selección.\n",
    "\n",
    "Flexibilidad y escalabilidad: La estructura de tablas permite agregar, modificar o eliminar datos sin afectar otras partes de la base de datos, lo que facilita la adaptación y ampliación de la base de datos a medida que cambian los requisitos."
   ]
  },
  {
   "cell_type": "code",
   "execution_count": null,
   "metadata": {},
   "outputs": [],
   "source": []
  }
 ],
 "metadata": {
  "language_info": {
   "name": "python"
  },
  "orig_nbformat": 4
 },
 "nbformat": 4,
 "nbformat_minor": 2
}
