{
 "cells": [
  {
   "cell_type": "markdown",
   "metadata": {},
   "source": [
    "**Qué es una base de datos?**\n",
    "\n",
    "Una base de datos es un conjunto estructurado de información organizada y almacenada de manera sistemática, que permite gestionar, almacenar, recuperar y manipular datos de manera eficiente. Proporciona una forma estructurada de almacenar datos relacionados entre sí, lo que facilita su acceso y utilización posterior.\n",
    "\n",
    "Algunos aplicaciones donde estas son usadas pueden ser:\n",
    "\n",
    "1. **Aplicaciones empresariales**: Las bases de datos son ampliamente utilizadas en empresas y organizaciones para gestionar información relacionada con clientes, productos, inventarios, transacciones financieras y más. Por ejemplo, un sistema de gestión de ventas puede utilizar una base de datos para almacenar información de los clientes, como nombres, direcciones, historiales de compra, etc.\n",
    "\n",
    "2. **Sitios web dinámicos**: Muchos sitios web requieren el almacenamiento y acceso eficiente a grandes volúmenes de información, como contenido de productos, publicaciones de blog, perfiles de usuarios, comentarios, etc. Las bases de datos permiten la gestión y recuperación eficiente de estos datos, lo que facilita la creación y actualización dinámica de contenido.\n",
    "\n",
    "3. **Sistemas de reserva y reservaciones**: En la industria de viajes y hospitalidad, las bases de datos son fundamentales para gestionar las reservas de hoteles, vuelos, alquiler de vehículos, entre otros. Estos sistemas almacenan datos sobre disponibilidad, precios, horarios y detalles de los clientes para facilitar la reserva y la administración de los servicios.\n",
    "\n",
    "4. **Aplicaciones científicas y de investigación**: En campos como la medicina, biología, astronomía y geografía, las bases de datos juegan un papel fundamental en el almacenamiento y análisis de grandes volúmenes de datos científicos. Por ejemplo, en la investigación genética, las bases de datos almacenan información sobre secuencias de ADN y permiten realizar análisis comparativos para descubrir patrones genéticos.\n",
    "\n",
    "En resumen, las bases de datos son herramientas esenciales para gestionar grandes volúmenes de datos de manera organizada y eficiente. Su uso se extiende a numerosos campos y aplicaciones, proporcionando una base sólida para el almacenamiento, acceso y manipulación de información estructurada."
   ]
  },
  {
   "cell_type": "markdown",
   "metadata": {},
   "source": [
    "--------------------------------"
   ]
  },
  {
   "cell_type": "markdown",
   "metadata": {},
   "source": [
    "**Tablas**\n",
    "\n",
    "Una tabla en una base de datos es una estructura de datos que se utiliza para organizar y representar los datos. Se compone de filas y columnas, donde cada fila representa un registro o entrada de datos, y cada columna representa un atributo o campo específico.\n",
    "\n",
    "Las tablas son una forma eficiente y sistemática de almacenar datos. Permiten organizar la información de manera estructurada, lo que facilita la búsqueda, recuperación y manipulación de esta.\n",
    "\n",
    "Ejemplo:\n",
    "\n",
    "ID\tNombre\tApellido\tEdad\tDepartamento\n",
    "1\tJohn\tSmith\t    30\t    Ventas\n",
    "2\tMaria\tRodriguez\t35\t    Marketing\n",
    "3\tDavid\tJohnson\t    28\t    Finanzas\n",
    "4\tSarah\tWilliams\t32\t    Recursos Hum.\n",
    "\n",
    "En este ejemplo, la tabla tiene cinco colúmnas: ID, Nombre, Apellido, Edad y Departamento. Cada fila representa un empleado y contiene los valores correspondientes para cada atributo. Por ejemplo, el primer registro tiene un ID de 1, nombre \"John\", apellido \"Smith\", edad de 30 años y pertenece al departamento de Ventas."
   ]
  },
  {
   "cell_type": "markdown",
   "metadata": {},
   "source": []
  },
  {
   "cell_type": "markdown",
   "metadata": {},
   "source": []
  },
  {
   "cell_type": "code",
   "execution_count": null,
   "metadata": {},
   "outputs": [],
   "source": []
  }
 ],
 "metadata": {
  "language_info": {
   "name": "python"
  },
  "orig_nbformat": 4
 },
 "nbformat": 4,
 "nbformat_minor": 2
}
